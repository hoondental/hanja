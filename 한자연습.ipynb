{
 "cells": [
  {
   "cell_type": "code",
   "execution_count": 1,
   "id": "429c80ac",
   "metadata": {},
   "outputs": [],
   "source": [
    "import os\n",
    "import time\n",
    "import datetime\n",
    "import numpy as np\n",
    "import random\n",
    "from itertools import permutations\n",
    "from IPython.display import clear_output\n",
    "from hanja import *\n",
    "\n",
    "dir_db = os.path.join('./한자표')\n",
    "\n",
    "# 지금까지 익힌 한자 급수를 입력하세요.\n",
    "levels = ['8급', '7급', '6급', '준5급']\n",
    "\n",
    "# 시험 문제가 출제될 한자 급수를 입력하세요\n",
    "tlevels = ['8급']\n",
    "\n",
    "# 기본 반복 회수\n",
    "basic_iter = 2\n",
    "\n",
    "# 뜻과 소리 문제 수\n",
    "num_q1 = 100\n",
    "\n",
    "# 한자 찾기 문제 수\n",
    "num_q2 = 100\n",
    "# 한자 찾기 보기 수\n",
    "q2_examples = 5\n",
    "\n",
    "hanjas, level_hanjas = read_level_hanjas(dir_db, levels)\n",
    "thanjas, tlevel_hanjas = read_level_hanjas(dir_db, tlevels)"
   ]
  },
  {
   "cell_type": "markdown",
   "id": "2f4a05a8",
   "metadata": {},
   "source": [
    "# 1. 한자의 뜻(훈) 과 소리(음) 맞추기"
   ]
  },
  {
   "cell_type": "code",
   "execution_count": null,
   "id": "5b830589",
   "metadata": {},
   "outputs": [],
   "source": [
    "hanja_practice(1, hanjas, thanjas)"
   ]
  },
  {
   "cell_type": "markdown",
   "id": "a31a2c52",
   "metadata": {},
   "source": [
    "# 2. 뜻과 소리에 맞는 한자 고르기"
   ]
  },
  {
   "cell_type": "code",
   "execution_count": null,
   "id": "01620f10",
   "metadata": {},
   "outputs": [],
   "source": [
    "hanja_practice(2, hanjas, thanjas)"
   ]
  },
  {
   "cell_type": "markdown",
   "id": "b00030f9",
   "metadata": {},
   "source": [
    "# 3. 직접 한자 써 보기"
   ]
  },
  {
   "cell_type": "code",
   "execution_count": null,
   "id": "50b99ce8",
   "metadata": {},
   "outputs": [],
   "source": [
    "hanja_practice(3, hanjas, thanjas)"
   ]
  },
  {
   "cell_type": "code",
   "execution_count": null,
   "id": "5ccf4288",
   "metadata": {},
   "outputs": [],
   "source": []
  }
 ],
 "metadata": {
  "kernelspec": {
   "display_name": "Python 3 (ipykernel)",
   "language": "python",
   "name": "python3"
  },
  "language_info": {
   "codemirror_mode": {
    "name": "ipython",
    "version": 3
   },
   "file_extension": ".py",
   "mimetype": "text/x-python",
   "name": "python",
   "nbconvert_exporter": "python",
   "pygments_lexer": "ipython3",
   "version": "3.8.12"
  }
 },
 "nbformat": 4,
 "nbformat_minor": 5
}
