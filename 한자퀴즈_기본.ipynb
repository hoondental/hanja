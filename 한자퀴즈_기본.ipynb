{
 "cells": [
  {
   "cell_type": "code",
   "execution_count": 1,
   "id": "429c80ac",
   "metadata": {},
   "outputs": [],
   "source": [
    "import os\n",
    "import time\n",
    "import datetime\n",
    "import numpy as np\n",
    "from IPython.display import clear_output\n",
    "from hanja import *\n",
    "\n",
    "dir_db = os.path.join('./한자표')\n",
    "\n",
    "# 지금까지 익힌 한자 급수를 입력하세요.\n",
    "levels = ['8급', '7급', '6급', '준5급']\n",
    "\n",
    "# 시험 문제가 출제될 한자 급수를 입력하세요\n",
    "tlevels = ['6급', '준5급']\n",
    "\n",
    "# 뜻과 소리 문제 수\n",
    "num_q1 = 100\n",
    "\n",
    "# 한자 찾기 문제 수\n",
    "num_q2 = 100\n",
    "# 한자 찾기 보기 수\n",
    "q2_examples = 5\n",
    "\n",
    "hanjas, level_hanjas = read_level_hanjas(dir_db, levels)\n",
    "thanjas, tlevel_hanjas = read_level_hanjas(dir_db, tlevels)"
   ]
  },
  {
   "cell_type": "markdown",
   "id": "2f4a05a8",
   "metadata": {},
   "source": [
    "# 1. 한자의 뜻(훈) 과 소리(음) 맞추기"
   ]
  },
  {
   "cell_type": "code",
   "execution_count": null,
   "id": "5b830589",
   "metadata": {},
   "outputs": [
    {
     "name": "stdout",
     "output_type": "stream",
     "text": [
      "##########  1번  ########## \n",
      "夕 의 뜻과 소리를 쓰시오     이름 명\n",
      "틀렸습니다. 이 한자는 저녁 석 입니다.\n",
      "##########  2번  ########## \n",
      "不 의 뜻과 소리를 쓰시오     아니 불\n",
      "맞았습니다. 축하합니다\n",
      "##########  3번  ########## \n",
      "姓 의 뜻과 소리를 쓰시오     성 성\n",
      "틀렸습니다. 이 한자는 성씨 성 입니다.\n",
      "##########  4번  ########## \n",
      "犬 의 뜻과 소리를 쓰시오     개 견\n",
      "맞았습니다. 축하합니다\n",
      "##########  5번  ########## \n",
      "休 의 뜻과 소리를 쓰시오     쉴 휴\n",
      "맞았습니다. 축하합니다\n",
      "##########  6번  ########## \n",
      "夫 의 뜻과 소리를 쓰시오     끝 말\n",
      "틀렸습니다. 이 한자는 지아비 부 입니다.\n",
      "##########  7번  ########## \n",
      "主 의 뜻과 소리를 쓰시오     구슬 옥\n",
      "틀렸습니다. 이 한자는 주인 주 입니다.\n",
      "##########  8번  ########## \n",
      "石 의 뜻과 소리를 쓰시오     돌 석\n",
      "맞았습니다. 축하합니다\n",
      "##########  9번  ########## \n",
      "字 의 뜻과 소리를 쓰시오     글자 자\n",
      "맞았습니다. 축하합니다\n"
     ]
    }
   ],
   "source": [
    "clear_output(wait=True)\n",
    "for i in range(num_q1):\n",
    "    idx = np.random.choice(list(range(len(thanjas))))\n",
    "    question1(thanjas[idx], i+1)\n",
    "    "
   ]
  },
  {
   "cell_type": "markdown",
   "id": "a31a2c52",
   "metadata": {},
   "source": [
    "# 2. 뜻과 소리에 맞는 한자 고르기"
   ]
  },
  {
   "cell_type": "code",
   "execution_count": null,
   "id": "01620f10",
   "metadata": {},
   "outputs": [
    {
     "name": "stdout",
     "output_type": "stream",
     "text": [
      "##########  1번  ########## \n",
      "다음 보기들중 양 양 자를 고르세요\n",
      "(1)口   (2)同   (3)人   (4)一   (5)羊     5\n",
      "맞았습니다. 축하합니다\n",
      "##########  2번  ########## \n",
      "다음 보기들중 글자 자 자를 고르세요\n",
      "(1)土   (2)魚   (3)東   (4)名   (5)字     5\n",
      "맞았습니다. 축하합니다\n",
      "##########  3번  ########## \n",
      "다음 보기들중 글자 자 자를 고르세요\n",
      "(1)字   (2)自   (3)石   (4)子   (5)小     1\n",
      "맞았습니다. 축하합니다\n",
      "##########  4번  ########## \n",
      "다음 보기들중 마음 심 자를 고르세요\n",
      "(1)巾   (2)心   (3)自   (4)足   (5)工     2\n",
      "맞았습니다. 축하합니다\n",
      "##########  5번  ########## \n",
      "다음 보기들중 글월 문 자를 고르세요\n",
      "(1)右   (2)文   (3)水   (4)夕   (5)石     2\n",
      "맞았습니다. 축하합니다\n",
      "##########  6번  ########## \n",
      "다음 보기들중 가운데 앙 자를 고르세요\n",
      "(1)文   (2)央   (3)內   (4)右   (5)不     2\n",
      "맞았습니다. 축하합니다\n",
      "##########  7번  ########## \n",
      "다음 보기들중 개 견 자를 고르세요\n",
      "(1)林   (2)心   (3)地   (4)王   (5)犬     5\n",
      "맞았습니다. 축하합니다\n",
      "##########  8번  ########## \n",
      "다음 보기들중 개 견 자를 고르세요\n",
      "(1)中   (2)犬   (3)自   (4)川   (5)食     2\n",
      "맞았습니다. 축하합니다\n",
      "##########  9번  ########## \n",
      "다음 보기들중 선비 사 자를 고르세요\n",
      "(1)六   (2)北   (3)士   (4)西   (5)林     3\n",
      "맞았습니다. 축하합니다\n",
      "##########  10번  ########## \n",
      "다음 보기들중 돌 석 자를 고르세요\n",
      "(1)方   (2)江   (3)一   (4)位   (5)石     5\n",
      "맞았습니다. 축하합니다\n",
      "##########  11번  ########## \n",
      "다음 보기들중 말 마 자를 고르세요\n",
      "(1)二   (2)馬   (3)母   (4)出   (5)八     2\n",
      "맞았습니다. 축하합니다\n",
      "##########  12번  ########## \n",
      "다음 보기들중 먼저 선 자를 고르세요\n",
      "(1)先   (2)石   (3)主   (4)力   (5)目     1\n",
      "맞았습니다. 축하합니다\n"
     ]
    }
   ],
   "source": [
    "clear_output(wait=True)\n",
    "for i in range(num_q2):\n",
    "    idx = np.random.choice(list(range(len(thanjas))))\n",
    "    question2(thanjas[idx], hanjas, num_examples=q2_examples, num=i+1)"
   ]
  },
  {
   "cell_type": "markdown",
   "id": "b00030f9",
   "metadata": {},
   "source": [
    "# 3. 직접 한자 써 보기"
   ]
  },
  {
   "cell_type": "code",
   "execution_count": null,
   "id": "50b99ce8",
   "metadata": {},
   "outputs": [
    {
     "name": "stdout",
     "output_type": "stream",
     "text": [
      "##########  1번  ########## \n",
      "내 천 자를 노트에 써보세요, 다 쓴 후에 아무글자나 입력하세요     \n",
      "川  답이 맞았는지 확인하고 틀렸으면 답을 보고 다시 써보세요\n",
      "맞았으면 1, 틀렸으면 2를 입력해주세요     1\n",
      "##########  2번  ########## \n",
      "자리 위 자를 노트에 써보세요, 다 쓴 후에 아무글자나 입력하세요     \n",
      "位  답이 맞았는지 확인하고 틀렸으면 답을 보고 다시 써보세요\n"
     ]
    }
   ],
   "source": [
    "clear_output(wait=True)\n",
    "_thanjas = np.random.permutation(thanjas)\n",
    "for i, hanja in enumerate(_thanjas):\n",
    "    question3(hanja, num=i+1)"
   ]
  },
  {
   "cell_type": "code",
   "execution_count": null,
   "id": "dd0479f7",
   "metadata": {},
   "outputs": [],
   "source": []
  }
 ],
 "metadata": {
  "kernelspec": {
   "display_name": "Python 3 (ipykernel)",
   "language": "python",
   "name": "python3"
  },
  "language_info": {
   "codemirror_mode": {
    "name": "ipython",
    "version": 3
   },
   "file_extension": ".py",
   "mimetype": "text/x-python",
   "name": "python",
   "nbconvert_exporter": "python",
   "pygments_lexer": "ipython3",
   "version": "3.8.12"
  }
 },
 "nbformat": 4,
 "nbformat_minor": 5
}
