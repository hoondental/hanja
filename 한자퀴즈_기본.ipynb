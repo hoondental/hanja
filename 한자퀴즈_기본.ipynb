{
 "cells": [
  {
   "cell_type": "code",
   "execution_count": 1,
   "id": "429c80ac",
   "metadata": {},
   "outputs": [],
   "source": [
    "import os\n",
    "import time\n",
    "import datetime\n",
    "import numpy as np\n",
    "from IPython.display import clear_output\n",
    "from hanja import *\n",
    "\n",
    "dir_db = os.path.join('./한자표')\n",
    "\n",
    "# 지금까지 익힌 한자 급수를 입력하세요.\n",
    "levels = ['8급', '7급', '6급', '준5급']\n",
    "\n",
    "# 시험 문제가 출제될 한자 급수를 입력하세요\n",
    "tlevels = ['6급', '준5급']\n",
    "\n",
    "# 뜻과 소리 문제 수\n",
    "num_q1 = 100\n",
    "\n",
    "# 한자 찾기 문제 수\n",
    "num_q2 = 100\n",
    "# 한자 찾기 보기 수\n",
    "q2_examples = 5\n",
    "\n",
    "hanjas, level_hanjas = read_level_hanjas(dir_db, levels)\n",
    "thanjas, tlevel_hanjas = read_level_hanjas(dir_db, tlevels)"
   ]
  },
  {
   "cell_type": "markdown",
   "id": "2f4a05a8",
   "metadata": {},
   "source": [
    "# 1. 한자의 뜻(훈) 과 소리(음) 맞추기"
   ]
  },
  {
   "cell_type": "code",
   "execution_count": null,
   "id": "5b830589",
   "metadata": {},
   "outputs": [
    {
     "name": "stdout",
     "output_type": "stream",
     "text": [
      "##########  1번  ########## \n",
      "犬 의 뜻과 소리를 쓰시오ㅇ\n",
      "한자의 뜻과 소리를 띄어서 입력하세요\n",
      "##########  1번  ########## \n",
      "犬 의 뜻과 소리를 쓰시오뱌\n",
      "한자의 뜻과 소리를 띄어서 입력하세요\n",
      "##########  1번  ########## \n",
      "犬 의 뜻과 소리를 쓰시오ㅁ야\n",
      "한자의 뜻과 소리를 띄어서 입력하세요\n",
      "틀렸습니다. 이 한자는 개 견 입니다.\n"
     ]
    }
   ],
   "source": [
    "clear_output(wait=True)\n",
    "for i in range(num_q1):\n",
    "    idx = np.random.choice(list(range(len(thanjas))))\n",
    "    question1(thanjas[idx], i+1)\n",
    "    "
   ]
  },
  {
   "cell_type": "markdown",
   "id": "a31a2c52",
   "metadata": {},
   "source": [
    "# 2. 뜻과 소리에 맞는 한자 고르기"
   ]
  },
  {
   "cell_type": "code",
   "execution_count": null,
   "id": "01620f10",
   "metadata": {},
   "outputs": [
    {
     "name": "stdout",
     "output_type": "stream",
     "text": [
      "##########  1번  ########## \n",
      "다음 보기들중 자리 위 자를 고르세요\n",
      "(1)王   (2)外   (3)位   (4)馬   (5)百3\n",
      "맞았습니다. 축하합니다\n",
      "##########  2번  ########## \n",
      "다음 보기들중 적을 소 자를 고르세요\n",
      "(1)四   (2)少   (3)位   (4)兄   (5)文2\n",
      "맞았습니다. 축하합니다\n",
      "##########  3번  ########## \n",
      "다음 보기들중 모 방 자를 고르세요\n",
      "(1)三   (2)方   (3)地   (4)心   (5)犬7\n",
      "보기에서 맞는 한자를 골라 번호(숫자)를 입력하세요\n"
     ]
    }
   ],
   "source": [
    "clear_output(wait=True)\n",
    "for i in range(num_q2):\n",
    "    idx = np.random.choice(list(range(len(thanjas))))\n",
    "    question2(thanjas[idx], hanjas, num_examples=q2_examples, num=i+1)"
   ]
  },
  {
   "cell_type": "markdown",
   "id": "b00030f9",
   "metadata": {},
   "source": [
    "# 3. 직접 한자 써 보기"
   ]
  },
  {
   "cell_type": "code",
   "execution_count": null,
   "id": "50b99ce8",
   "metadata": {},
   "outputs": [
    {
     "name": "stdout",
     "output_type": "stream",
     "text": [
      "##########  1번  ########## \n",
      "물고기 어 자를 노트에 써보세요, 다 쓴 후에 아무글자나 입력하세요\n",
      "魚  답이 맞았는지 확인하고 틀렸으면 답을 보고 다시 써보세요\n",
      "맞았으면 1, 틀렸으면 2를 입력해주세요1\n"
     ]
    }
   ],
   "source": [
    "clear_output(wait=True)\n",
    "_thanjas = np.random.permutation(thanjas)\n",
    "for i, hanja in enumerate(_thanjas):\n",
    "    question3(hanja, num=i+1)"
   ]
  },
  {
   "cell_type": "code",
   "execution_count": null,
   "id": "dd0479f7",
   "metadata": {},
   "outputs": [],
   "source": []
  }
 ],
 "metadata": {
  "kernelspec": {
   "display_name": "Python 3 (ipykernel)",
   "language": "python",
   "name": "python3"
  },
  "language_info": {
   "codemirror_mode": {
    "name": "ipython",
    "version": 3
   },
   "file_extension": ".py",
   "mimetype": "text/x-python",
   "name": "python",
   "nbconvert_exporter": "python",
   "pygments_lexer": "ipython3",
   "version": "3.8.12"
  }
 },
 "nbformat": 4,
 "nbformat_minor": 5
}
